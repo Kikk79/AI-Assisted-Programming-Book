{
 "cells": [
  {
   "cell_type": "markdown",
   "metadata": {},
   "source": [
    "# Debugging"
   ]
  },
  {
   "cell_type": "code",
   "execution_count": null,
   "metadata": {},
   "outputs": [],
   "source": [
    "# /fix command in GibHub Copilot"
   ]
  },
  {
   "cell_type": "code",
   "execution_count": null,
   "metadata": {},
   "outputs": [],
   "source": [
    "# Logical error\n",
    "def find_max(a, b):\n",
    "    if a < b:\n",
    "        return a\n",
    "    else:\n",
    "        return b\n",
    "    \n",
    "print(find_max(3, 5)) # 3\n"
   ]
  },
  {
   "cell_type": "code",
   "execution_count": null,
   "metadata": {},
   "outputs": [],
   "source": [
    "# Error handling\n",
    "def divide_numbers(a, b):\n",
    "    return a / b\n",
    "\n",
    "print(divide_numbers(10, 0)) "
   ]
  },
  {
   "cell_type": "code",
   "execution_count": null,
   "metadata": {},
   "outputs": [],
   "source": [
    "# optimization\n",
    "def calculate_squares(numbers):\n",
    "    squares = []\n",
    "    for num in numbers:\n",
    "        squares.append(num * num)\n",
    "    return squares\n",
    "\n",
    "print(calculate_squares([1, 2, 3, 4, 5]))\n"
   ]
  },
  {
   "cell_type": "code",
   "execution_count": 8,
   "metadata": {},
   "outputs": [],
   "source": [
    "# security bug\n",
    "\n",
    "# SQL Injection** is a security vulnerability that allows attackers to interfere \n",
    "# with the queries an application makes to its database.\n",
    "# Occurs when: User input is improperly sanitized, allowing malicious code to be included in SQL statements.\n",
    "# Consequences:** Can lead to unauthorized data access, data modification, database corruption, or e\n",
    "# ven the execution of administrative operations on the database.\n",
    "\n",
    "import sqlite3\n",
    "\n",
    "def get_user_data(user_id):\n",
    "    connection = sqlite3.connect(\"example.db\")\n",
    "    cursor = connection.cursor()\n",
    "    query = \"SELECT * FROM users WHERE id = \" + user_id\n",
    "    cursor.execute(query)\n",
    "    result = cursor.fetchone()\n",
    "    connection.close()\n",
    "    return result\n"
   ]
  },
  {
   "cell_type": "markdown",
   "metadata": {},
   "source": [
    "Unit Tests\n",
    "\n",
    "- GitHub Copilot can create test cases\n",
    "- Can't do everything\n",
    "- But provide a good start\n",
    "- Different types of unit testing frameworks\n",
    "- In your prompt, specify the framework\n",
    "- Prompt:  @workspace /new Create a new Python project that is for a simple calculator class.  Allow unit testing\n",
    "\n",
    "\n",
    "\n"
   ]
  },
  {
   "cell_type": "markdown",
   "metadata": {},
   "source": []
  }
 ],
 "metadata": {
  "kernelspec": {
   "display_name": "Python 3",
   "language": "python",
   "name": "python3"
  },
  "language_info": {
   "codemirror_mode": {
    "name": "ipython",
    "version": 3
   },
   "file_extension": ".py",
   "mimetype": "text/x-python",
   "name": "python",
   "nbconvert_exporter": "python",
   "pygments_lexer": "ipython3",
   "version": "3.12.5"
  }
 },
 "nbformat": 4,
 "nbformat_minor": 2
}
