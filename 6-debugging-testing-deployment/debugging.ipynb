{
 "cells": [
  {
   "cell_type": "markdown",
   "metadata": {},
   "source": [
    "# Documentation, Debugging & Deployment"
   ]
  },
  {
   "cell_type": "markdown",
   "metadata": {},
   "source": [
    "# Comments\n",
    "\n",
    "Use /doc\n",
    "\n",
    "Example:  Use webserver.js\n",
    "\n",
    "Go to to end of the screen and bring up in-line chat\n",
    "\n",
    "Prompt:  /doc\n",
    "\n",
    "Prompt:  /doc use emojis too\n"
   ]
  },
  {
   "cell_type": "markdown",
   "metadata": {},
   "source": [
    "# API\n",
    "\n",
    "Prompt:  Please generate detailed API documentation for this API. The documentation should include descriptions for each endpoint, required request parameters, possible responses, and examples of requests and responses in JSON format. Additionally, include potential error codes and their meanings. Use clear headings and structure the documentation for easy readability."
   ]
  },
  {
   "cell_type": "markdown",
   "metadata": {},
   "source": [
    "Debugging\n",
    "\n",
    "35% to 50% of a developer’s time is spent on debugging\n",
    "\n",
    "Syntax Errors\n",
    "\n",
    "Code does not conform to the syntax rules of the programming language\n",
    "\n",
    "Usually caught by the compiler or interpreter before the code is executed\n",
    "\n",
    "Logical Errors\n",
    "\n",
    "These bugs occur when the code is syntactically correct but does not produce the desired result due to flawed logic or reasoning"
   ]
  },
  {
   "cell_type": "code",
   "execution_count": null,
   "metadata": {},
   "outputs": [],
   "source": [
    "# /fix command in GibHub Copilot"
   ]
  },
  {
   "cell_type": "code",
   "execution_count": null,
   "metadata": {},
   "outputs": [],
   "source": [
    "# Logical error\n",
    "def find_max(a, b):\n",
    "    if a < b:\n",
    "        return a\n",
    "    else:\n",
    "        return b\n",
    "    \n",
    "print(find_max(3, 5)) # 3\n"
   ]
  },
  {
   "cell_type": "code",
   "execution_count": null,
   "metadata": {},
   "outputs": [],
   "source": [
    "# Error handling\n",
    "def divide_numbers(a, b):\n",
    "    return a / b\n",
    "\n",
    "print(divide_numbers(10, 0)) "
   ]
  },
  {
   "cell_type": "code",
   "execution_count": null,
   "metadata": {},
   "outputs": [],
   "source": [
    "# optimization\n",
    "def calculate_squares(numbers):\n",
    "    squares = []\n",
    "    for num in numbers:\n",
    "        squares.append(num * num)\n",
    "    return squares\n",
    "\n",
    "print(calculate_squares([1, 2, 3, 4, 5]))\n"
   ]
  },
  {
   "cell_type": "code",
   "execution_count": 8,
   "metadata": {},
   "outputs": [],
   "source": [
    "# security bug\n",
    "\n",
    "# SQL Injection** is a security vulnerability that allows attackers to interfere \n",
    "# with the queries an application makes to its database.\n",
    "# Occurs when: User input is improperly sanitized, allowing malicious code to be included in SQL statements.\n",
    "# Consequences:** Can lead to unauthorized data access, data modification, database corruption, or e\n",
    "# ven the execution of administrative operations on the database.\n",
    "\n",
    "import sqlite3\n",
    "\n",
    "def get_user_data(user_id):\n",
    "    connection = sqlite3.connect(\"example.db\")\n",
    "    cursor = connection.cursor()\n",
    "    query = \"SELECT * FROM users WHERE id = \" + user_id\n",
    "    cursor.execute(query)\n",
    "    result = cursor.fetchone()\n",
    "    connection.close()\n",
    "    return result\n"
   ]
  },
  {
   "cell_type": "markdown",
   "metadata": {},
   "source": [
    "Unit Tests\n",
    "\n",
    "- GitHub Copilot can create test cases\n",
    "- Can't do everything\n",
    "- But provide a good start\n",
    "- Different types of unit testing frameworks\n",
    "- In your prompt, specify the framework\n",
    "- Chat tends to have more tests than using in-line chat\n",
    "- Examples:  tests.py\n",
    "\n",
    "\n",
    "\n"
   ]
  },
  {
   "cell_type": "markdown",
   "metadata": {},
   "source": []
  },
  {
   "cell_type": "markdown",
   "metadata": {},
   "source": [
    "Deployment\n",
    "\n",
    "Deployment Automation and Scripts\n",
    "\n",
    "Script Generation \n",
    "Bash Prompt:\n",
    "  \"Generate a Bash script that deploys a Node.js application to an Ubuntu server, installs necessary dependencies, and sets up PM2 to manage the application process.\"\n",
    " \n",
    "PowerShell Prompt:  \n",
    "  \"Write a PowerShell script to deploy a .NET Core web application to a Windows Server, configure IIS, and set up firewall rules for HTTP and HTTPS.\"\n",
    "\n",
    "CI/CD Pipeline Configuration\n",
    "\n",
    "GitHub Actions Prompt \n",
    "  \"Write a GitHub Actions YAML file that builds a Docker image from the repository, pushes it to Docker Hub, and then deploys it to a Kubernetes cluster.\"\n",
    "\n",
    "Containerization**\n",
    "\n",
    "Dockerfile Configuration Prompt\n",
    "  \"Generate a Dockerfile for a Python Django application that installs dependencies, copies application files, and runs `python manage.py runserver`.\"\n",
    "\n",
    "ubernetes Manifest Prompt\n",
    "  \"Write a Kubernetes deployment and service manifest to deploy a MySQL database with persistent storage in a Kubernetes cluster.\"\n",
    "\n"
   ]
  },
  {
   "cell_type": "markdown",
   "metadata": {},
   "source": []
  }
 ],
 "metadata": {
  "kernelspec": {
   "display_name": "Python 3",
   "language": "python",
   "name": "python3"
  },
  "language_info": {
   "codemirror_mode": {
    "name": "ipython",
    "version": 3
   },
   "file_extension": ".py",
   "mimetype": "text/x-python",
   "name": "python",
   "nbconvert_exporter": "python",
   "pygments_lexer": "ipython3",
   "version": "3.12.5"
  }
 },
 "nbformat": 4,
 "nbformat_minor": 2
}
