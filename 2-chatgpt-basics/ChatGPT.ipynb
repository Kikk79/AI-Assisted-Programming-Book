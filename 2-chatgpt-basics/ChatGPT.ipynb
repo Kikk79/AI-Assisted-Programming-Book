{
 "cells": [
  {
   "cell_type": "markdown",
   "metadata": {},
   "source": [
    "# ChatGPT"
   ]
  },
  {
   "cell_type": "markdown",
   "metadata": {},
   "source": [
    "Capabilities of ChatGPT\n",
    "\n",
    "Usually for popular languages:  Python, JavaScript, Java\n",
    "Popular libraries:  pandas\n",
    "Depends on what the LLM is trained on\n",
    "\n",
    "Tour of ChatGPT\n",
    "Keep a session to one topic (click the chat icon at top left of screen)\n",
    "LLM can get confused, misdirected\n",
    "Cannot search list of sessions on the right side\n",
    "But can rename them\n",
    "Can choose the model (top left of screen)\n",
    "\n",
    "Custom Intructions (click profile at top right)\n",
    "Set the context for all sessions\n",
    "Style of coding?  Approch?  Conventions?  Explanations?\n",
    "Format?  Do not use comments?  Spacing?\n",
    "Note:  ChatGPT may not always follow the instructions!\n",
    "\n",
    "What would you like ChatGPT to know about you to provide better responses?\n",
    "\n",
    "“I'm a software developer with 5 years of experience in Python, JavaScript, and C++. I often work on web applications, and I'm currently focused on learning more about cloud computing and DevOps. I prefer detailed, step-by-step explanations when solving coding problems. I'm also interested in best practices and coding standards for clean and efficient code.”\n",
    "\n",
    "How would you like ChatGPT to respond?\n",
    "\n",
    "“Please provide clear and concise explanations with code examples whenever possible. Use technical language appropriate for someone with an intermediate to advanced understanding of programming. When discussing new concepts or tools, give a brief overview before diving into more complex details. Also, feel free to suggest best practices, optimization tips, or alternative approaches that could improve my code.”\n",
    "\n",
    "Coding prompt:\n",
    "\n",
    "Prompt:  Write a Python script that acts as a simple automation bot to rename files in a directory based on a naming convention. Allow the user to provide a prefix, suffix, or number sequence. Prompt the user for options, and implement file renaming safely (including handling name conflicts).\n",
    "\n",
    "Using Canvas:\n",
    "\n",
    "Coding shortcuts include:\n",
    "\n",
    "- Review code: ChatGPT provides inline suggestions to improve your code.\n",
    "\n",
    "- Add logs: Inserts print statements to help you debug and understand your code.\n",
    "\n",
    "- Add comments: Adds comments to the code to make it easier to understand.\n",
    "\n",
    "- Fix bugs: Detects and rewrites problematic code to resolve errors.\n",
    "\n",
    "- Port to a language: Translates your code into JavaScript, TypeScript, Python, Java, C++, or PHP.\n",
    "\n",
    "Prompt:  Write a Python script that acts as a simple automation bot to rename files in a directory based on a naming convention. Allow the user to provide a prefix, suffix, or number sequence. Prompt the user for options, and implement file renaming safely (including handling name conflicts).\n",
    "\n",
    "GPTs\n",
    "Customized apps for ChatGPT\n",
    "Store\n",
    "Many available for programming\n",
    "\n",
    "Claude code prompt:\n",
    "\n",
    " I want to create an investment calculator.  It will allow me to input an initial investment amount and the average annual return.  I will also be able to input the number of years for the investment.  Make a Web interface for this.\n",
    "\n",
    "\n",
    "Gemini code prompt:  \n",
    "\n",
    "Write a Python program to calculate the factorial of a number."
   ]
  }
 ],
 "metadata": {
  "language_info": {
   "name": "python"
  }
 },
 "nbformat": 4,
 "nbformat_minor": 2
}
