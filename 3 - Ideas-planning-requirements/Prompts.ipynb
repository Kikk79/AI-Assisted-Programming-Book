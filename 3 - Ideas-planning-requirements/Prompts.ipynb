{
 "cells": [
  {
   "cell_type": "markdown",
   "metadata": {},
   "source": [
    "# Ideas, Planning & Requirements"
   ]
  },
  {
   "cell_type": "markdown",
   "metadata": {},
   "source": [
    "Brainstorming\n",
    "\n",
    "Prompt: What are techniques for brainstorming ideas for new products? Use the internet to research this question.\n",
    "\n",
    "Research:\n",
    "\n",
    "A good LLM for this:  https://www.perplexity.ai/\n",
    "\n",
    "Prompt:  I want to create a software application.  I want to focus on a growth area with positive demographics.  What are some of the best opportunities?\n",
    "\n",
    "Prompt:  What are statistics that highlight the growth of the aging of the population?\n",
    "\n",
    "Prompt:  I want to create a vertical SaaS application.  I want to focus on an underserved market that does not have much adoption of technology.  I also want an industry that has many businesses, especially small and medium size ones.  Create a report for this.  Include the industry name, the total revenues in the US and the total number of businesses.  Create a list of 20 of them, which have the most potential for success.\n",
    "\n",
    "Prompt:  I'm interested in 17.  To better understand this industry, what is the typical operation of a senior living/assisted living facility?\n",
    "\n",
    "Prompt:  What software solutions are common in this industry and can you tie them to any part of the process of a shop?\n",
    "\n",
    "Prompt:  Which one would an AI-powered SaaS solution be the best opportunity?\n",
    "\n",
    "Note:  The research needs to be validated.  But this informaton can be a good start.\n",
    "\n",
    "\n",
    "Defining Your Target Audience\n",
    "\n",
    "\n",
    "Prompt: Could you create a survey focused on understanding what buyers look for [name the type of application]? The survey should include questions that help identify key features, usability preferences, specific industry needs, and any particular challenges buyers want to address with this type of software. Additionally, please include questions that gauge the importance of factors such as cost, support, scalability, and integration capabilities.\n",
    "\n",
    "Total Addressable Market (TAM)\n",
    "\n",
    "Prompt: What are the different ways to estimate the size of the TAM (Total Addressable Market)?\n",
    "\n",
    "Competition\n",
    "\n",
    "Prompt: List the main competitors for [name the category].  Put this in a table.\n",
    "\n",
    "Prototype\n",
    "Good LLM for this V0 - https://v0.dev/chat\n",
    "\n",
    "If creating a web app, you can create a prompt for each page or section.\n",
    "\n",
    "Prompt:  I'm developing a website for a Resident Engagement & Social Activity Management app designed for senior living facilities. I want to create the dashboard that allows activity coordinators to efficiently plan, schedule, and manage daily social and wellness activities for residents. This should be designed with simplicity and functionality in mind. It will include a calendar view for quick access to upcoming activities and provide options for customizing events based on resident preferences or facility needs. Additionally, the dashboard will enable real-time updates, helping staff stay informed of any changes or cancellations. \n",
    "\n",
    "Prompt:  [Upload whiteboard.png]  Create an UI for this.\n",
    "\n",
    "Products Requirements Document (PRD)\n",
    "\n",
    "Prompt: What are the main parts of a PRD? Create a Word document as a template\n",
    "\n",
    "Software Requirements Specification (SRS)\n",
    "\n",
    "Prompt: What are the essential elements and best practices to consider when drafting an effective Software Requirements Specification (SRS)?\n",
    "Prompt:  Outline the process for developing an Software Requirements Specification (SRS), emphasizing the steps involved in gathering and analyzing requirements, stakeholder collaboration, and documentation methodologies.\n",
    "\n",
    "Prompt: Create a detailed Software Requirements Specification (SRS) for a software project, including sections like Project Overview, Stakeholder Analysis, Functional and Non-functional Requirements, Assumptions, and Constraints. <Add the details you want for each.>\\\n",
    "\n",
    "Prompt:  Write a Software Requirements Specification (SRS) for this document.\n",
    "Note:  SRS_Notes.docx\n",
    "\n",
    "Tone\n",
    "Prompt: Please draft a comprehensive list of technical requirements for a mobile banking app, ensuring the writing is clear, well structured, and professional."
   ]
  }
 ],
 "metadata": {
  "language_info": {
   "name": "python"
  }
 },
 "nbformat": 4,
 "nbformat_minor": 2
}
