{
 "cells": [
  {
   "cell_type": "markdown",
   "metadata": {},
   "source": [
    "# 4 - Prompt Engineering"
   ]
  },
  {
   "cell_type": "markdown",
   "metadata": {},
   "source": [
    "# Context"
   ]
  },
  {
   "cell_type": "markdown",
   "metadata": {},
   "source": [
    "* Persona or role\n",
    "* A sentence or two\n",
    "* Example:  You are an experienced Python developer"
   ]
  },
  {
   "cell_type": "markdown",
   "metadata": {},
   "source": []
  },
  {
   "cell_type": "markdown",
   "metadata": {},
   "source": [
    "# Instructions for the LLM"
   ]
  },
  {
   "cell_type": "markdown",
   "metadata": {},
   "source": [
    "* Clear\n",
    "* Focus on a task\n",
    "* Multiple tasks can confuse or redirect the LLM"
   ]
  },
  {
   "cell_type": "markdown",
   "metadata": {},
   "source": [
    "Examples:  \n",
    "\n",
    "Create a Python function that takes a list of integers and returns the sum of all even numbers in the list\n",
    "\n",
    "Create a function that merges two dictionaries, with values from the second dictionary overwriting those from the first if there are duplicate keys\n",
    "\n",
    "Write a function that reads a JSON file, modifies a specific field, and writes the updated data back to the file\n",
    "\n",
    "Implement a function that safely converts a string to an integer, returning None if the conversion fails\n",
    "\n",
    "Implement a function that safely converts a string to an integer, returning None if the conversion fails"
   ]
  },
  {
   "cell_type": "markdown",
   "metadata": {},
   "source": [
    "* Order of the words matter with the prompt\n",
    "* Based on the transformer model -- which predicts the next word based on the prior information\n",
    "* Example:  the output will be at the end of the prompt"
   ]
  },
  {
   "cell_type": "markdown",
   "metadata": {},
   "source": []
  },
  {
   "cell_type": "markdown",
   "metadata": {},
   "source": [
    "# Text Classification"
   ]
  },
  {
   "cell_type": "markdown",
   "metadata": {},
   "source": [
    "* Give the LLM text and it will analyze it\n",
    "* Use case:  sentiment analysis, such as with user feedback\n",
    "* ChatGPT is a good option\n",
    "* Prompt:  Can you analyze these customer reviews and tell me if the sentiment is generally positive, negative or neutral?"
   ]
  },
  {
   "cell_type": "markdown",
   "metadata": {},
   "source": []
  },
  {
   "cell_type": "markdown",
   "metadata": {},
   "source": [
    "# Translation"
   ]
  },
  {
   "cell_type": "markdown",
   "metadata": {},
   "source": [
    "* localization\n",
    "* Example:  Translate the following UI text into French:  Save, Exit, File, Edit, Help."
   ]
  },
  {
   "cell_type": "markdown",
   "metadata": {},
   "source": [
    "# Code Conversion"
   ]
  },
  {
   "cell_type": "markdown",
   "metadata": {},
   "source": []
  }
 ],
 "metadata": {
  "language_info": {
   "name": "python"
  }
 },
 "nbformat": 4,
 "nbformat_minor": 2
}
