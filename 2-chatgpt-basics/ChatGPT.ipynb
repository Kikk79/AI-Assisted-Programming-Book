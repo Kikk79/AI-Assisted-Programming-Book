{
 "cells": [
  {
   "cell_type": "markdown",
   "metadata": {},
   "source": [
    "# ChatGPT"
   ]
  },
  {
   "cell_type": "markdown",
   "metadata": {},
   "source": [
    "Coding prompt:\n",
    "\n",
    "Write a Python program to calculate the factorial of a number.\n",
    "\n",
    "Claude code prompt:\n",
    "\n",
    " I want to create an investment calculator.  It will allow me to input an initial investment amount and the average annual return.  I will also be able to input the number of years for the investment.  Make a Web interface for this.\n",
    "\n",
    "\n",
    "Gemini code prompt:  \n",
    "\n",
    "Write a Python program to calculate the factorial of a number."
   ]
  }
 ],
 "metadata": {
  "language_info": {
   "name": "python"
  }
 },
 "nbformat": 4,
 "nbformat_minor": 2
}
