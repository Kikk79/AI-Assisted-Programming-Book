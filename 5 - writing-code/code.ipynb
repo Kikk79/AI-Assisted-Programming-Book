{
 "cells": [
  {
   "cell_type": "markdown",
   "metadata": {},
   "source": [
    "# Writing Code"
   ]
  },
  {
   "cell_type": "markdown",
   "metadata": {},
   "source": [
    "Learning\n",
    "- Prompt: For someone who does not know Python, what should I learn first?\n",
    "- Prompt: What are some beginner-friendly projects I can try to improve my skills in React?\n",
    "- Prompt: Can you suggest resources for learning advanced SQL queries?\n",
    "- Prompt: How would you implement a basic “to-do list” app in both Python and JavaScript to highlight their differences?\n",
    "- Prompt: I know how to use loops in C++. Can you show me how loops work in Python for comparison?\n",
    "- Prompt: Find 5 useful YouTube videos that show how to learn Rust."
   ]
  },
  {
   "cell_type": "markdown",
   "metadata": {},
   "source": [
    "Study guides:\n",
    "\n",
    "- Prompt: Create a study guide for JavaScript. Focus on a beginner level.\n",
    "\n",
    "You can then follow this up with:\n",
    "- Prompt: Please create a study schedule for me. What topics should I study? What about practice exercises or quizzes? Coding problems? Links to resources?\n",
    "\n",
    "LeetCode:\n",
    "- Prompt: Suggest 3 common LeetCode interview questions."
   ]
  },
  {
   "cell_type": "markdown",
   "metadata": {},
   "source": [
    "Comments:\n",
    "\n",
    "- AI good at coming up with them\n",
    "- Prompt: Add comments that are clear and according to best coding practices.\n",
    "- But do you need them?\n",
    "- After all, AI is also good at explaining code"
   ]
  },
  {
   "cell_type": "markdown",
   "metadata": {},
   "source": [
    "Starter Project:\n",
    "- Lots of boilerplate with code\n",
    "- Scaffold the product\n",
    "- @workspace /new code for a react project\n",
    "- Screenshot of the scaffold/explain using ChatGPT"
   ]
  },
  {
   "cell_type": "markdown",
   "metadata": {},
   "source": [
    "Autofill\n",
    "- Example:  Want to make an app that is responsive\n",
    "- Have constants for the breakpoints for a CSS-in-JS styled-components library.\n",
    "- breakpoints = {\n",
    " 'xs': '320px', # Extra small devices\n",
    "- Prompt: Create constants for other screen sizes"
   ]
  },
  {
   "cell_type": "markdown",
   "metadata": {},
   "source": [
    "Next:  Look at refactoring\n",
    "- Process of restructuring code wihtout changing its external behavior\n",
    "\n",
    "Ninja code\n",
    "- Example: \n",
    "- console.log((function(n, a = 0, b = 1) { while (--n) [a, b] = [b, a + b]; return a; })(10));\n",
    "- Prompt: Can you explain this code in a step-by-step process? Also, can you write this in a simpler way that is more maintainable?"
   ]
  },
  {
   "cell_type": "markdown",
   "metadata": {},
   "source": [
    "Extract Method\n",
    "- Simply a long method or function\n",
    "- See extract-method.py"
   ]
  },
  {
   "cell_type": "markdown",
   "metadata": {},
   "source": [
    "Decomposing Conditionals\n",
    "- A refactoring technique used to simplify complex conditional expressions in your code\n",
    "- See decompose-conditionals.py"
   ]
  },
  {
   "cell_type": "markdown",
   "metadata": {},
   "source": [
    "Renaming\n",
    "- Clarity and maintainability\n",
    "- renaming.py"
   ]
  },
  {
   "cell_type": "markdown",
   "metadata": {},
   "source": [
    "Dead code\n",
    "- Refactor for non-used code\n",
    "- Be careful\n",
    "- dead-code.py"
   ]
  },
  {
   "cell_type": "markdown",
   "metadata": {},
   "source": [
    "Functions\n",
    "- Think of the single responsibility principle\n",
    "- Name it clearly\n",
    "- Keep it short and sweet\n",
    "- Parameters are key\n",
    "- Stay consistent\n",
    "\n",
    "Prompt: Write a Python function named calculate_area that takes two integers as parameters, length and width, and returns the area of a rectangle. Include a docstring explaining the function’s purpose and ensure the function handles non-integer inputs by raising a TypeError.\n",
    "\n",
    "Prompt: I need a JavaScript function called filterAndTransform. It should take an array of objects as input. Each object has properties name (string) and age (number). The function should return a new array containing the names of people who are 18 years or older, converted to uppercase. Include comments explaining the logic.\n",
    "\n",
    "Prompt: Create a C++ function named efficientSort that sorts an array of integers in ascending order. The function should be optimized for time complexity. Provide comments within the function explaining the choice of sorting algorithm and its time complexity.\n",
    "\n",
    "Prompt: Can you generate a Java function called safeDivide that takes two double parameters, numerator and denominator, and returns their division? The function should handle division by zero by returning a custom error message. Include Javadoc comments explaining the function and its error handling."
   ]
  },
  {
   "cell_type": "markdown",
   "metadata": {},
   "source": []
  }
 ],
 "metadata": {
  "language_info": {
   "name": "python"
  }
 },
 "nbformat": 4,
 "nbformat_minor": 2
}
