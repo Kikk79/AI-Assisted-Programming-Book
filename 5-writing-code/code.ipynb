{
 "cells": [
  {
   "cell_type": "markdown",
   "metadata": {},
   "source": [
    "# Writing Code"
   ]
  },
  {
   "cell_type": "markdown",
   "metadata": {},
   "source": [
    "Learning\n",
    "- Prompt: For someone who does not know Python, what should I learn first?\n",
    "- Prompt: What are some beginner-friendly projects I can try to improve my skills in React?\n",
    "- Prompt: Can you suggest resources for learning advanced SQL queries?\n",
    "- Prompt: How would you implement a basic “to-do list” app in both Python and JavaScript to highlight their differences?\n",
    "- Prompt: I know how to use loops in C++. Can you show me how loops work in Python for comparison?\n",
    "- Prompt: Find 5 useful YouTube videos that show how to learn Rust."
   ]
  },
  {
   "cell_type": "markdown",
   "metadata": {},
   "source": [
    "Study guides:\n",
    "\n",
    "- Prompt: Create a study guide for JavaScript. Focus on a beginner level.\n",
    "\n",
    "You can then follow this up with:\n",
    "- Prompt: Please create a study schedule for me. What topics should I study? What about practice exercises or quizzes? Coding problems? Links to resources?\n",
    "\n",
    "LeetCode:\n",
    "- Prompt: Suggest 3 common LeetCode interview questions."
   ]
  },
  {
   "cell_type": "markdown",
   "metadata": {},
   "source": [
    "Comments:\n",
    "\n",
    "- AI good at coming up with them\n",
    "- Prompt: Add comments that are clear and according to best coding practices.\n",
    "- But do you need them?\n",
    "- After all, AI is also good at explaining code"
   ]
  },
  {
   "cell_type": "markdown",
   "metadata": {},
   "source": [
    "Starter Project:\n",
    "- Lots of boilerplate with code\n",
    "- Scaffold the product\n",
    "- @workspace /new code for a react project\n",
    "- Screenshot of the scaffold/explain using ChatGPT"
   ]
  },
  {
   "cell_type": "markdown",
   "metadata": {},
   "source": [
    "Autofill\n",
    "- Example:  Want to make an app that is responsive\n",
    "- Have constants for the breakpoints for a CSS-in-JS styled-components library.\n",
    "- breakpoints = {\n",
    " 'xs': '320px', # Extra small devices\n",
    "- Prompt: Create constants for other screen sizes"
   ]
  },
  {
   "cell_type": "markdown",
   "metadata": {},
   "source": [
    "Next:  Look at refactoring\n",
    "- Process of restructuring code wihtout changing its external behavior\n",
    "\n",
    "Ninja code\n",
    "- Example: \n",
    "- console.log((function(n, a = 0, b = 1) { while (--n) [a, b] = [b, a + b]; return a; })(10));\n",
    "- Prompt: Can you explain this code in a step-by-step process? Also, can you write this in a simpler way that is more maintainable?"
   ]
  },
  {
   "cell_type": "markdown",
   "metadata": {},
   "source": [
    "Extract Method\n",
    "- Simplify a long method or function\n",
    "- See extract-method.py"
   ]
  },
  {
   "cell_type": "markdown",
   "metadata": {},
   "source": [
    "Decomposing Conditionals\n",
    "- A refactoring technique used to simplify complex conditional expressions in your code\n",
    "- See decompose-conditionals.py"
   ]
  },
  {
   "cell_type": "markdown",
   "metadata": {},
   "source": [
    "Renaming\n",
    "- Clarity and maintainability\n",
    "- renaming.py"
   ]
  },
  {
   "cell_type": "markdown",
   "metadata": {},
   "source": [
    "Dead code\n",
    "- Refactor for non-used code\n",
    "- Be careful\n",
    "- dead-code.py"
   ]
  },
  {
   "cell_type": "markdown",
   "metadata": {},
   "source": [
    "Functions\n",
    "- Think of the single responsibility principle\n",
    "- Name it clearly\n",
    "- Keep it short and sweet\n",
    "- Parameters are key\n",
    "- Stay consistent\n",
    "\n",
    "Prompt: Write a Python function named calculate_area that takes two integers as parameters, length and width, and returns the area of a rectangle. Include a docstring explaining the function’s purpose and ensure the function handles non-integer inputs by raising a TypeError.\n",
    "\n",
    "Prompt: I need a JavaScript function called filterAndTransform. It should take an array of objects as input. Each object has properties name (string) and age (number). The function should return a new array containing the names of people who are 18 years or older, converted to uppercase. Include comments explaining the logic.\n",
    "\n",
    "Prompt: Create a C++ function named efficientSort that sorts an array of integers in ascending order. The function should be optimized for time complexity. Provide comments within the function explaining the choice of sorting algorithm and its time complexity.\n",
    "\n",
    "Prompt: Can you generate a Java function called safeDivide that takes two double parameters, numerator and denominator, and returns their division? The function should handle division by zero by returning a custom error message. Include Javadoc comments explaining the function and its error handling."
   ]
  },
  {
   "cell_type": "markdown",
   "metadata": {},
   "source": [
    "Data"
   ]
  },
  {
   "cell_type": "markdown",
   "metadata": {},
   "source": [
    "- Creating data/synthetic data\n",
    "- Can be a tedious process\n",
    "- Creating a database schema:\n",
    "\n",
    "Prompt: Can you help me design a basic database schema for a blog? I need to know what tables I should create and the primary relationships between them.\n",
    "\n",
    "Prompt: What would be an efficient table structure for managing customer orders in a relational database? What fields and data types should I include?\n",
    "\n",
    "Prompt: How should I define the relationships between tables in a relational database for an application that deals with event management? Specifically, I need help with understanding foreign keys and join tables.\n",
    "\n",
    "- Sample data generation: \n",
    "\n",
    "Prompt: Create demo data for 100 IDs and email data and save this to a CSV file.\n",
    "\n",
    "Prompt: Create demo data for 50 products, including product ID, name, price, and category.\n",
    "\n",
    "Prompt: Create a demo dataset of 150 order records, each with an order ID, customer ID, order date, and total amount.\n",
    "\n",
    "Prompt: Generate sample data for 100 employees, including employee ID, full name, department, and email address.\n",
    "\n",
    "Prompt: Create sample data for 80 customer feedback entries, including feedback ID, customer ID, comments.\n",
    "\n",
    "- SQL:\n",
    "\n",
    "Prompt: Generate a SQL insert statement to populate the Feedback table with the data.\n",
    "\n",
    "- Data conversion: \n",
    "\n",
    "Prompt: Here’s a CSV row: ‘John Doe, 35, New York’. Can you convert this into an XML format for me?\n",
    "\n"
   ]
  },
  {
   "cell_type": "markdown",
   "metadata": {},
   "source": [
    "CSS\n",
    "\n",
    "- Can be tricky and tedious\n",
    "- Browser-specific quirks\n",
    "\n",
    "Prompt: Can you provide me with a CSS snippet for a responsive navigation bar that collapses into a hamburger menu on mobile devices?\n",
    "\n",
    "Prompt: I’m having trouble with a flexbox layout in CSS where items are not aligning properly. Can you suggest what might be going wrong?\n",
    "\n",
    "Prompt: I need to add a hover effect to buttons on my website. Can you show me a CSS example to make the button change color when hovered over?\n",
    "\n",
    "Prompt: I’d like to add a fade-in animation to my website’s homepage. Could you provide a CSS code snippet for this?"
   ]
  },
  {
   "cell_type": "markdown",
   "metadata": {},
   "source": [
    "Regular Expressions (Regex)\n",
    "\n",
    "Example:  \n",
    "^(?=.*[a-z])(?=.*[A-Z])(?=.*\\d)(?=.*[@$!%*?&])[A-Za-z\\d@$!%*?&]{8,}$\n",
    "\n",
    "Prompt: Create a regex pattern to validate standard email addresses. The email should start with alphanumeric characters, followed by optional dots, hyphens, or underscores. Then, there should be an “@” symbol, followed by more alphanumeric characters, a dot, and finally, a domain name that is 2 to 6 characters long.\n",
    "\n",
    "Prompt: Provide me with a regex pattern to validate URLs. The URL may start with “http” or “https”, followed by “://”, then a domain name which can include alphanumeric characters and dots. After the domain, there can be an optional path that starts with a “/” and can include alphanumeric characters, slashes, dots, or hyphens. The URL may end with an optional “/”.\n",
    "\n",
    "Prompt: Create a regex pattern to validate dates in the MM/DD/YYYY format. The month should be between 01 and 12, the day should be between 01 and 31, and the year should be either in the 1900s or 2000s."
   ]
  },
  {
   "cell_type": "markdown",
   "metadata": {},
   "source": []
  }
 ],
 "metadata": {
  "language_info": {
   "name": "python"
  }
 },
 "nbformat": 4,
 "nbformat_minor": 2
}
