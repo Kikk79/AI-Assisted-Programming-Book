{
 "cells": [
  {
   "cell_type": "markdown",
   "metadata": {},
   "source": [
    "# 4 - Prompt Engineering"
   ]
  },
  {
   "cell_type": "markdown",
   "metadata": {},
   "source": [
    "# System Message"
   ]
  },
  {
   "cell_type": "markdown",
   "metadata": {},
   "source": [
    "* Persona or role\n",
    "* A sentence or two\n",
    "* Example:  You are an experienced Python developer"
   ]
  },
  {
   "cell_type": "markdown",
   "metadata": {},
   "source": []
  },
  {
   "cell_type": "markdown",
   "metadata": {},
   "source": [
    "# Instructions for the LLM"
   ]
  },
  {
   "cell_type": "markdown",
   "metadata": {},
   "source": [
    "* Clear\n",
    "* Focus on a task\n",
    "* Multiple tasks can confuse or redirect the LLM"
   ]
  },
  {
   "cell_type": "markdown",
   "metadata": {},
   "source": [
    "Examples:  \n",
    "\n",
    "Create a Python function that takes a list of integers and returns the sum of all even numbers in the list\n",
    "\n",
    "Create a function that merges two dictionaries, with values from the second dictionary overwriting those from the first if there are duplicate keys\n",
    "\n",
    "Write a function that reads a JSON file, modifies a specific field, and writes the updated data back to the file\n",
    "\n",
    "Implement a function that safely converts a string to an integer, returning None if the conversion fails\n",
    "\n",
    "Implement a function that safely converts a string to an integer, returning None if the conversion fails"
   ]
  },
  {
   "cell_type": "markdown",
   "metadata": {},
   "source": [
    "* Order of the words matter with the prompt\n",
    "* Based on the transformer model -- which predicts the next word based on the prior information\n",
    "* Example:  the output will be at the end of the prompt"
   ]
  },
  {
   "cell_type": "markdown",
   "metadata": {},
   "source": []
  },
  {
   "cell_type": "markdown",
   "metadata": {},
   "source": [
    "# Text Classification"
   ]
  },
  {
   "cell_type": "markdown",
   "metadata": {},
   "source": [
    "* Give the LLM text and it will analyze it\n",
    "* Use case:  sentiment analysis, such as with user feedback\n",
    "* ChatGPT is a good option\n",
    "* Prompt:  Can you analyze these customer reviews and tell me if the sentiment is generally positive, negative or neutral?"
   ]
  },
  {
   "cell_type": "markdown",
   "metadata": {},
   "source": []
  },
  {
   "cell_type": "markdown",
   "metadata": {},
   "source": [
    "# Translation"
   ]
  },
  {
   "cell_type": "markdown",
   "metadata": {},
   "source": [
    "* localization\n",
    "* Example:  Translate the following UI text into French:  Save, Exit, File, Edit, Help."
   ]
  },
  {
   "cell_type": "markdown",
   "metadata": {},
   "source": [
    "# Code Conversion"
   ]
  },
  {
   "cell_type": "markdown",
   "metadata": {},
   "source": [
    "* Convert code between different languages\n",
    "* Do the same for frameworks:  React to Vue, Express.js to Flask API\n",
    "* Can struggle with complex code or older code bases (COBOL)\n",
    "* Have LLM explain the code"
   ]
  },
  {
   "cell_type": "markdown",
   "metadata": {},
   "source": [
    "# Delimiters"
   ]
  },
  {
   "cell_type": "markdown",
   "metadata": {},
   "source": [
    "* Separate conent with ###, \"\"\", and so on\n",
    "* Focus the LLM on what you want to work on\n",
    "* Examples:\n",
    "\n",
    "Stripe API\n",
    "\n",
    "Documentation\n",
    "https://docs.stripe.com/api\n",
    "\n",
    "Search for \"confirming a payment\"\n",
    "\n",
    "Cut and paste the section\n",
    "\n",
    "Use this prompt:  Here’s the Stripe API documentation on confirming a payment intent. Could you walk me through the steps and show an example in Python?\n",
    "\n",
    "In the Spotify Web API, what are the required parameters for searching for a track, and can you show me a Python code example of how to use it?\n",
    "\n",
    "In the OpenWeatherMap API, what are the required parameters for getting current weather data for a city, and can you show me a Python code example of how to use it?"
   ]
  },
  {
   "cell_type": "markdown",
   "metadata": {},
   "source": [
    "# Output Formating"
   ]
  },
  {
   "cell_type": "markdown",
   "metadata": {},
   "source": [
    "Examples:  \n",
    "\n",
    "Create a Python function that takes a list of user objects (each object containing a user’s ID and name) and returns a JSON object that maps user IDs to names. Format the output as JSON.\n",
    "\n",
    "Write a Python script using BeautifulSoup to scrape the top 10 headlines from a news website. Generate an HTML report with these headlines, including links to the full articles. Style the HTML with inline CSS to make it visually appealing.\n",
    "\n",
    "Develop a Python function that analyzes a pandas DataFrame of sales data. Create a bar chart using Matplotlib showing monthly sales totals. Save the chart as a PNG file and return a dictionary with summary statistics (total sales, average monthly sales, best and worst months).\n",
    "\n",
    "Write a Python script that interacts with a REST API (e.g., OpenWeatherMap) to fetch weather data for multiple cities. Store the API key and city list in a YAML configuration file. Output the weather information as a formatted text report.\n",
    "\n",
    "Create a Python script using Pillow and reportlab that processes a folder of images. Generate a PDF report with thumbnails of each image, including file names and basic image statistics (dimensions, file size). Add a title page and page numbers to the PDF."
   ]
  },
  {
   "cell_type": "markdown",
   "metadata": {},
   "source": [
    "# Output Length"
   ]
  },
  {
   "cell_type": "markdown",
   "metadata": {},
   "source": [
    "Examples:\n",
    "\n",
    "Be precise\n",
    "\n",
    "Write a detailed explanation\n",
    "\n",
    "Do not provide an exaplanation\n",
    "\n",
    "Express this in one paragraph\n",
    "\n",
    "Express this in 300 words"
   ]
  },
  {
   "cell_type": "markdown",
   "metadata": {},
   "source": [
    "# Technical Terms and Acronyms"
   ]
  },
  {
   "cell_type": "markdown",
   "metadata": {},
   "source": [
    "* Define them\n",
    "* Prompt:  I'm having DB connection issues. How to fix them?\n",
    "* What does DB refer to?  What type of databases:\n",
    "* Prompt:  I am encourning a connection timeout issue while trying to connect to my PostgreSQL database using JDBC. How can I resolve this?"
   ]
  },
  {
   "cell_type": "markdown",
   "metadata": {},
   "source": [
    "# Few-Shot Learning"
   ]
  },
  {
   "cell_type": "markdown",
   "metadata": {},
   "source": [
    "* Provide examples in the prompt\n",
    "* Form of prompt learning\n",
    "\n",
    "Example:\n",
    "\n",
    "Based on the following examples of normalizing a list of numbers to a range of [0, 1]:\n",
    "1. Input: [2, 4, 6, 8] Output: [0, 0.3333, 0.6667, 1]\n",
    "2. Input: [5, 10, 15] Output: [0, 0.5, 1]\n",
    "3. Input: [1, 3, 2] Output: [0, 1, 0.5]\n",
    "Generate a function in Python that takes a list of numbers as input and returns a list of normalized numbers.\n",
    "\n",
    "Example:\n",
    "\n",
    "Create a JavaScript function to validate email addresses. The function should return true for valid emails and false for invalid ones. Here are some test cases to consider:\n",
    "\n",
    "test@example.com (valid)\n",
    "\n",
    "invalid.email@com (invalid)\n",
    "\n",
    "user@subdomain.example.co.uk (valid)\n",
    "\n",
    "@missingusername.com (invalid)\n",
    "\n",
    "\n",
    "Ensure the function handles these cases correctly."
   ]
  },
  {
   "cell_type": "markdown",
   "metadata": {},
   "source": [
    "# Leading Prompts"
   ]
  },
  {
   "cell_type": "markdown",
   "metadata": {},
   "source": [
    "* Avoid assumptions\n",
    "* Try to be neutral\n",
    "* Leading prompt:  Isn't it true that migrating to a microservices architecture will always improve system scalability?\n",
    "* Better:  What are the advantages and challenges of migrating to a microservices architecture in terms of system scalability?"
   ]
  },
  {
   "cell_type": "markdown",
   "metadata": {},
   "source": [
    "# Examples and analogies"
   ]
  },
  {
   "cell_type": "markdown",
   "metadata": {},
   "source": [
    "* A way to learn new concepts\n",
    "* Prompt:  Explain inheritance that is used in object-oriented programming by using an analogy."
   ]
  },
  {
   "cell_type": "markdown",
   "metadata": {},
   "source": [
    "# Context"
   ]
  },
  {
   "cell_type": "markdown",
   "metadata": {},
   "source": [
    "- Of course, LLMs can’t read your mind\n",
    "- This is why it’s important to provide context\n",
    "- GitHub provides this via the IDE\n",
    "- File extension (if py, will know to write code I Python)\n",
    "- Will also use the following for the contex:\n",
    "    - Name of the active file and its code\n",
    "    - Content before and after the cursor\n",
    "    - Comments\n",
    "    - Other open files\n",
    "- This context is included with your prompt\n",
    "- GitHub Copilot will engage in inference/connecting the dots of the codebase\n",
    "    - Considers your coding style and patterns within\n",
    "    - Understand and use imported libraries and custom functions defined in your project\n",
    "    - Respects your IDE settings, like indentation style\n",
    "    - Use the folder structure and file names to better understand the project context\n",
    "- Reduces the need for writing lengthy prompts\n",
    "- Use of shorthand commands -- called agents -- for the prompts"
   ]
  },
  {
   "cell_type": "markdown",
   "metadata": {},
   "source": []
  }
 ],
 "metadata": {
  "language_info": {
   "name": "python"
  }
 },
 "nbformat": 4,
 "nbformat_minor": 2
}
